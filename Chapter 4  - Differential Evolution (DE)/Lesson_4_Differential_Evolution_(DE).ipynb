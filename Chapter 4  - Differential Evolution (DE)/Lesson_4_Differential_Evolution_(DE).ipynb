{
  "nbformat": 4,
  "nbformat_minor": 0,
  "metadata": {
    "colab": {
      "provenance": []
    },
    "kernelspec": {
      "name": "python3",
      "display_name": "Python 3"
    },
    "language_info": {
      "name": "python"
    }
  },
  "cells": [
    {
      "cell_type": "markdown",
      "source": [
        "#Differential Evolution (DE)"
      ],
      "metadata": {
        "id": "d6_0Mm3wNLEG"
      }
    },
    {
      "cell_type": "markdown",
      "source": [
        "#1. DE/rand/1"
      ],
      "metadata": {
        "id": "M5PMlr6bNLxd"
      }
    },
    {
      "cell_type": "markdown",
      "source": [
        "Standard differential evolution algorithm using a mutation strategy (rand/1) and a simple difference-based crossover."
      ],
      "metadata": {
        "id": "w4UndoGGNN6F"
      }
    },
    {
      "cell_type": "code",
      "execution_count": null,
      "metadata": {
        "colab": {
          "base_uri": "https://localhost:8080/"
        },
        "id": "8XTxyQ1DMzVL",
        "outputId": "f4fc7942-cb1f-4b7d-8c65-19b9c31e5500"
      },
      "outputs": [
        {
          "output_type": "stream",
          "name": "stdout",
          "text": [
            "Best Solution: [-2.81684237e-03 -1.87596541e-03 -7.87042141e-05  1.11259623e-03\n",
            "  3.42745988e-03]\n",
            "Best Fitness: 2.4445393158404352e-05\n"
          ]
        }
      ],
      "source": [
        "import numpy as np\n",
        "\n",
        "# Define the objective function (example: Sphere function)\n",
        "def objective_function(x):\n",
        "    return np.sum(x**2)  # Sphere function: f(x) = sum(x_i^2)\n",
        "\n",
        "def de_rand_1(objective_func, bounds, pop_size=50, max_iter=100, F=0.8, CR=0.9):\n",
        "    \"\"\"\n",
        "    DE/rand/1 implementation for optimizing the objective_func.\n",
        "\n",
        "    Parameters:\n",
        "        objective_func (function): The objective function to be minimized.\n",
        "        bounds (list of tuple): The search space bounds for each variable.\n",
        "        pop_size (int): The population size (default: 50).\n",
        "        max_iter (int): Maximum number of iterations (default: 100).\n",
        "        F (float): The differential weight for mutation (default: 0.8).\n",
        "        CR (float): The crossover probability (default: 0.9).\n",
        "\n",
        "    Returns:\n",
        "        tuple: (best_solution, best_fitness) where\n",
        "            - best_solution (ndarray): The best solution found.\n",
        "            - best_fitness (float): The fitness value of the best solution.\n",
        "    \"\"\"\n",
        "    num_params = len(bounds)\n",
        "    lower_bound, upper_bound = np.array(bounds).T\n",
        "\n",
        "    # Initialize population\n",
        "    population = np.random.uniform(low=lower_bound, high=upper_bound, size=(pop_size, num_params))\n",
        "\n",
        "    # Best solution found\n",
        "    best_solution = None\n",
        "    best_fitness = np.inf\n",
        "\n",
        "    for i in range(max_iter):\n",
        "        for j in range(pop_size):\n",
        "            # Select three random indices different from current index j\n",
        "            candidates = [idx for idx in range(pop_size) if idx != j]\n",
        "            a, b, c = np.random.choice(candidates, 3, replace=False)\n",
        "\n",
        "            # Mutation: DE/rand/1 mutation strategy\n",
        "            mutant_vector = population[a] + F * (population[b] - population[c])\n",
        "\n",
        "            # Clip the mutant vector to the bounds\n",
        "            mutant_vector = np.clip(mutant_vector, lower_bound, upper_bound)\n",
        "\n",
        "            # Crossover: Simple difference-based crossover\n",
        "            trial_vector = np.where(np.random.rand(num_params) <= CR, mutant_vector, population[j])\n",
        "\n",
        "            # Evaluate the trial vector\n",
        "            trial_fitness = objective_func(trial_vector)\n",
        "\n",
        "            # Update the population\n",
        "            if trial_fitness < objective_func(population[j]):\n",
        "                population[j] = trial_vector\n",
        "\n",
        "                # Update the best solution found\n",
        "                if trial_fitness < best_fitness:\n",
        "                    best_solution = trial_vector\n",
        "                    best_fitness = trial_fitness\n",
        "\n",
        "    return best_solution, best_fitness\n",
        "\n",
        "# Example usage:\n",
        "np.random.seed(42)\n",
        "bounds = [(-5.12, 5.12)] * 5  # Bounds for each parameter\n",
        "best_solution, best_fitness = de_rand_1(objective_function, bounds)\n",
        "\n",
        "print(\"Best Solution:\", best_solution)\n",
        "print(\"Best Fitness:\", best_fitness)"
      ]
    },
    {
      "cell_type": "markdown",
      "source": [
        "#2. DE/best/1"
      ],
      "metadata": {
        "id": "few9nyjONbV1"
      }
    },
    {
      "cell_type": "markdown",
      "source": [
        "Uses the best individual in the current population as a donor for mutation."
      ],
      "metadata": {
        "id": "T0AKeyaNNfJ0"
      }
    },
    {
      "cell_type": "code",
      "source": [
        "import numpy as np\n",
        "\n",
        "def de_best_1(objective_func, bounds, pop_size=50, max_iter=100, F=0.8, CR=0.9):\n",
        "    \"\"\"\n",
        "    DE/best/1 implementation for optimizing the objective_func.\n",
        "\n",
        "    Parameters:\n",
        "        objective_func (function): The objective function to be minimized.\n",
        "        bounds (list of tuple): The search space bounds for each variable.\n",
        "        pop_size (int): The population size (default: 50).\n",
        "        max_iter (int): Maximum number of iterations (default: 100).\n",
        "        F (float): The differential weight for mutation (default: 0.8).\n",
        "        CR (float): The crossover probability (default: 0.9).\n",
        "\n",
        "    Returns:\n",
        "        tuple: (best_solution, best_fitness) where\n",
        "            - best_solution (ndarray): The best solution found.\n",
        "            - best_fitness (float): The fitness value of the best solution.\n",
        "    \"\"\"\n",
        "    num_params = len(bounds)\n",
        "    lower_bound, upper_bound = np.array(bounds).T\n",
        "\n",
        "    # Initialize population\n",
        "    population = np.random.uniform(low=lower_bound, high=upper_bound, size=(pop_size, num_params))\n",
        "\n",
        "    # Best solution found\n",
        "    best_solution = None\n",
        "    best_fitness = np.inf\n",
        "\n",
        "    for i in range(max_iter):\n",
        "        # Find the index of the best individual in the population\n",
        "        best_index = np.argmin([objective_func(individual) for individual in population])\n",
        "        best_individual = population[best_index]\n",
        "\n",
        "        for j in range(pop_size):\n",
        "            # Mutation: DE/best/1 mutation strategy\n",
        "            mutant_vector = best_individual + F * (population[np.random.choice(pop_size)] - population[np.random.choice(pop_size)])\n",
        "\n",
        "            # Clip the mutant vector to the bounds\n",
        "            mutant_vector = np.clip(mutant_vector, lower_bound, upper_bound)\n",
        "\n",
        "            # Crossover: Simple difference-based crossover\n",
        "            trial_vector = np.where(np.random.rand(num_params) <= CR, mutant_vector, population[j])\n",
        "\n",
        "            # Evaluate the trial vector\n",
        "            trial_fitness = objective_func(trial_vector)\n",
        "\n",
        "            # Update the population\n",
        "            if trial_fitness < objective_func(population[j]):\n",
        "                population[j] = trial_vector\n",
        "\n",
        "                # Update the best solution found\n",
        "                if trial_fitness < best_fitness:\n",
        "                    best_solution = trial_vector\n",
        "                    best_fitness = trial_fitness\n",
        "\n",
        "    return best_solution, best_fitness\n",
        "\n",
        "# Example usage:\n",
        "np.random.seed(42)\n",
        "bounds = [(-5.12, 5.12)] * 5  # Bounds for each parameter\n",
        "best_solution, best_fitness = de_best_1(objective_function, bounds)\n",
        "\n",
        "print(\"Best Solution:\", best_solution)\n",
        "print(\"Best Fitness:\", best_fitness)"
      ],
      "metadata": {
        "colab": {
          "base_uri": "https://localhost:8080/"
        },
        "id": "jRVwRVdzNbOV",
        "outputId": "6f0a191f-6916-493d-fdc2-af2f57bef571"
      },
      "execution_count": null,
      "outputs": [
        {
          "output_type": "stream",
          "name": "stdout",
          "text": [
            "Best Solution: [-2.52265066e-08 -2.12027597e-08 -3.10403810e-08  7.26964720e-08\n",
            "  3.80006149e-08]\n",
            "Best Fitness: 8.778262682446304e-15\n"
          ]
        }
      ]
    },
    {
      "cell_type": "markdown",
      "source": [
        "#3. DE/current-to-best/1"
      ],
      "metadata": {
        "id": "L-dY0Db8N6ud"
      }
    },
    {
      "cell_type": "markdown",
      "source": [
        "Combines the best individual and the current individual to guide mutation."
      ],
      "metadata": {
        "id": "FuBuQWhSN9qt"
      }
    },
    {
      "cell_type": "code",
      "source": [
        "import numpy as np\n",
        "\n",
        "def de_current_to_best_1(objective_func, bounds, pop_size=50, max_iter=100, F=0.8, CR=0.9):\n",
        "    \"\"\"\n",
        "    DE/current-to-best/1 implementation for optimizing the objective_func.\n",
        "\n",
        "    Parameters:\n",
        "        objective_func (function): The objective function to be minimized.\n",
        "        bounds (list of tuple): The search space bounds for each variable.\n",
        "        pop_size (int): The population size (default: 50).\n",
        "        max_iter (int): Maximum number of iterations (default: 100).\n",
        "        F (float): The differential weight for mutation (default: 0.8).\n",
        "        CR (float): The crossover probability (default: 0.9).\n",
        "\n",
        "    Returns:\n",
        "        tuple: (best_solution, best_fitness) where\n",
        "            - best_solution (ndarray): The best solution found.\n",
        "            - best_fitness (float): The fitness value of the best solution.\n",
        "    \"\"\"\n",
        "    num_params = len(bounds)\n",
        "    lower_bound, upper_bound = np.array(bounds).T\n",
        "\n",
        "    # Initialize population\n",
        "    population = np.random.uniform(low=lower_bound, high=upper_bound, size=(pop_size, num_params))\n",
        "\n",
        "    # Best solution found\n",
        "    best_solution = None\n",
        "    best_fitness = np.inf\n",
        "\n",
        "    for i in range(max_iter):\n",
        "        # Find the index of the best individual in the population\n",
        "        best_index = np.argmin([objective_func(individual) for individual in population])\n",
        "        best_individual = population[best_index]\n",
        "\n",
        "        for j in range(pop_size):\n",
        "            # Mutation: DE/current-to-best/1 mutation strategy\n",
        "            mutant_vector = population[j] + F * (best_individual - population[j]) + F * (population[np.random.choice(pop_size)] - population[np.random.choice(pop_size)])\n",
        "\n",
        "            # Clip the mutant vector to the bounds\n",
        "            mutant_vector = np.clip(mutant_vector, lower_bound, upper_bound)\n",
        "\n",
        "            # Crossover: Simple difference-based crossover\n",
        "            trial_vector = np.where(np.random.rand(num_params) <= CR, mutant_vector, population[j])\n",
        "\n",
        "            # Evaluate the trial vector\n",
        "            trial_fitness = objective_func(trial_vector)\n",
        "\n",
        "            # Update the population\n",
        "            if trial_fitness < objective_func(population[j]):\n",
        "                population[j] = trial_vector\n",
        "\n",
        "                # Update the best solution found\n",
        "                if trial_fitness < best_fitness:\n",
        "                    best_solution = trial_vector\n",
        "                    best_fitness = trial_fitness\n",
        "\n",
        "    return best_solution, best_fitness\n",
        "\n",
        "# Example usage:\n",
        "np.random.seed(42)\n",
        "bounds = [(-5.12, 5.12)] * 5  # Bounds for each parameter\n",
        "best_solution, best_fitness = de_current_to_best_1(objective_function, bounds)\n",
        "\n",
        "print(\"Best Solution:\", best_solution)\n",
        "print(\"Best Fitness:\", best_fitness)"
      ],
      "metadata": {
        "colab": {
          "base_uri": "https://localhost:8080/"
        },
        "id": "Pa6BdZUBN-08",
        "outputId": "4a0d72f2-94c3-469b-ab54-0bf5bf84f5fe"
      },
      "execution_count": null,
      "outputs": [
        {
          "output_type": "stream",
          "name": "stdout",
          "text": [
            "Best Solution: [-9.81080694e-08 -4.47491170e-08  1.01961509e-08 -1.70464370e-08\n",
            " -3.29536824e-10]\n",
            "Best Fitness: 1.2022327857396713e-14\n"
          ]
        }
      ]
    },
    {
      "cell_type": "markdown",
      "source": [
        "#4. DE/rand-to-best/2"
      ],
      "metadata": {
        "id": "h3giO7uzOqvt"
      }
    },
    {
      "cell_type": "markdown",
      "source": [
        "Merges random individuals with the best individual to generate mutant vectors."
      ],
      "metadata": {
        "id": "0tjvEzmpOsQt"
      }
    },
    {
      "cell_type": "code",
      "source": [
        "import numpy as np\n",
        "\n",
        "def de_rand_to_best_2(objective_func, bounds, pop_size=50, max_iter=100, F=0.8, CR=0.9):\n",
        "    \"\"\"\n",
        "    DE/rand-to-best/2 implementation for optimizing the objective_func.\n",
        "\n",
        "    Parameters:\n",
        "        objective_func (function): The objective function to be minimized.\n",
        "        bounds (list of tuple): The search space bounds for each variable.\n",
        "        pop_size (int): The population size (default: 50).\n",
        "        max_iter (int): Maximum number of iterations (default: 100).\n",
        "        F (float): The differential weight for mutation (default: 0.8).\n",
        "        CR (float): The crossover probability (default: 0.9).\n",
        "\n",
        "    Returns:\n",
        "        tuple: (best_solution, best_fitness) where\n",
        "            - best_solution (ndarray): The best solution found.\n",
        "            - best_fitness (float): The fitness value of the best solution.\n",
        "    \"\"\"\n",
        "    num_params = len(bounds)\n",
        "    lower_bound, upper_bound = np.array(bounds).T\n",
        "\n",
        "    # Initialize population\n",
        "    population = np.random.uniform(low=lower_bound, high=upper_bound, size=(pop_size, num_params))\n",
        "\n",
        "    # Best solution found\n",
        "    best_solution = None\n",
        "    best_fitness = np.inf\n",
        "\n",
        "    for i in range(max_iter):\n",
        "        # Find the index of the best individual in the population\n",
        "        best_index = np.argmin([objective_func(individual) for individual in population])\n",
        "        best_individual = population[best_index]\n",
        "\n",
        "        for j in range(pop_size):\n",
        "            # Mutation: DE/rand-to-best/2 mutation strategy\n",
        "            a, b, c = np.random.choice(pop_size, 3, replace=False)\n",
        "\n",
        "            mutant_vector = population[a] + F * (population[b] - population[c]) + F * (best_individual - population[j])\n",
        "\n",
        "            # Clip the mutant vector to the bounds\n",
        "            mutant_vector = np.clip(mutant_vector, lower_bound, upper_bound)\n",
        "\n",
        "            # Crossover: Simple difference-based crossover\n",
        "            trial_vector = np.where(np.random.rand(num_params) <= CR, mutant_vector, population[j])\n",
        "\n",
        "            # Evaluate the trial vector\n",
        "            trial_fitness = objective_func(trial_vector)\n",
        "\n",
        "            # Update the population\n",
        "            if trial_fitness < objective_func(population[j]):\n",
        "                population[j] = trial_vector\n",
        "\n",
        "                # Update the best solution found\n",
        "                if trial_fitness < best_fitness:\n",
        "                    best_solution = trial_vector\n",
        "                    best_fitness = trial_fitness\n",
        "\n",
        "    return best_solution, best_fitness\n",
        "\n",
        "# Example usage:\n",
        "np.random.seed(42)\n",
        "bounds = [(-5.12, 5.12)] * 5  # Bounds for each parameter\n",
        "best_solution, best_fitness = de_rand_to_best_2(objective_function, bounds)\n",
        "\n",
        "print(\"Best Solution:\", best_solution)\n",
        "print(\"Best Fitness:\", best_fitness)\n"
      ],
      "metadata": {
        "colab": {
          "base_uri": "https://localhost:8080/"
        },
        "id": "btMr9z83OpBN",
        "outputId": "12abb46c-ccdc-4219-bcdb-1eb93f9f3a8f"
      },
      "execution_count": null,
      "outputs": [
        {
          "output_type": "stream",
          "name": "stdout",
          "text": [
            "Best Solution: [-0.03665746  0.10916247  0.0517539  -0.0641463  -0.04215531]\n",
            "Best Fitness: 0.02183049815481654\n"
          ]
        }
      ]
    },
    {
      "cell_type": "markdown",
      "source": [
        "# 5. Self-adaptive Differential Evolution:\n",
        "DE variants that adaptively adjust control parameters during evolution."
      ],
      "metadata": {
        "id": "vzSMNiA2Oxds"
      }
    },
    {
      "cell_type": "code",
      "source": [
        "import numpy as np\n",
        "\n",
        "def sade(objective_func, bounds, pop_size=50, max_iter=100):\n",
        "    \"\"\"\n",
        "    Self-adaptive Differential Evolution (SaDE) implementation for optimizing the objective_func.\n",
        "\n",
        "    Parameters:\n",
        "        objective_func (function): The objective function to be minimized.\n",
        "        bounds (list of tuple): The search space bounds for each variable.\n",
        "        pop_size (int): The population size (default: 50).\n",
        "        max_iter (int): Maximum number of iterations (default: 100).\n",
        "\n",
        "    Returns:\n",
        "        tuple: (best_solution, best_fitness) where\n",
        "            - best_solution (ndarray): The best solution found.\n",
        "            - best_fitness (float): The fitness value of the best solution.\n",
        "    \"\"\"\n",
        "    num_params = len(bounds)\n",
        "    lower_bound, upper_bound = np.array(bounds).T\n",
        "\n",
        "    # Initialize population\n",
        "    population = np.random.uniform(low=lower_bound, high=upper_bound, size=(pop_size, num_params))\n",
        "\n",
        "    # Initialize mutation scale factor (F) and crossover probability (CR) arrays\n",
        "    F = np.random.uniform(0.5, 1.0, size=pop_size)\n",
        "    CR = np.random.uniform(0.0, 1.0, size=pop_size)\n",
        "\n",
        "    # Best solution found\n",
        "    best_solution = None\n",
        "    best_fitness = np.inf\n",
        "\n",
        "    for i in range(max_iter):\n",
        "        for j in range(pop_size):\n",
        "            # Select three distinct random indices for mutation\n",
        "            candidates = [idx for idx in range(pop_size) if idx != j]\n",
        "            a, b, c = np.random.choice(candidates, 3, replace=False)\n",
        "\n",
        "            # Generate mutant vector using adaptive F\n",
        "            mutant_vector = population[a] + F[j] * (population[b] - population[c])\n",
        "\n",
        "            # Clip mutant vector to bounds\n",
        "            mutant_vector = np.clip(mutant_vector, lower_bound, upper_bound)\n",
        "\n",
        "            # Perform crossover to create trial vector using adaptive CR\n",
        "            trial_vector = np.where(np.random.rand(num_params) <= CR[j], mutant_vector, population[j])\n",
        "\n",
        "            # Evaluate the trial vector\n",
        "            trial_fitness = objective_func(trial_vector)\n",
        "\n",
        "            # Update the population based on trial solution\n",
        "            if trial_fitness < objective_func(population[j]):\n",
        "                population[j] = trial_vector\n",
        "                F[j] = F[j] + 0.1  # Increase F if trial is successful\n",
        "                CR[j] = CR[j] + 0.1  # Increase CR if trial is successful\n",
        "\n",
        "                # Update the best solution found\n",
        "                if trial_fitness < best_fitness:\n",
        "                    best_solution = trial_vector\n",
        "                    best_fitness = trial_fitness\n",
        "            else:\n",
        "                F[j] = F[j] - 0.1  # Decrease F if trial is unsuccessful\n",
        "                CR[j] = CR[j] - 0.1  # Decrease CR if trial is unsuccessful\n",
        "\n",
        "                F[j] = np.clip(F[j], 0.5, 1.0)  # Clip F to [0.5, 1.0]\n",
        "                CR[j] = np.clip(CR[j], 0.0, 1.0)  # Clip CR to [0.0, 1.0]\n",
        "\n",
        "    return best_solution, best_fitness\n",
        "\n",
        "# Example usage:\n",
        "np.random.seed(42)\n",
        "bounds = [(-5.12, 5.12)] * 5  # Bounds for each parameter\n",
        "best_solution, best_fitness = sade(objective_function, bounds)\n",
        "\n",
        "print(\"Best Solution:\", best_solution)\n",
        "print(\"Best Fitness:\", best_fitness)"
      ],
      "metadata": {
        "colab": {
          "base_uri": "https://localhost:8080/"
        },
        "id": "pyxqvf0POxXc",
        "outputId": "83285c00-6336-41e1-a4b8-67b902d75e83"
      },
      "execution_count": null,
      "outputs": [
        {
          "output_type": "stream",
          "name": "stdout",
          "text": [
            "Best Solution: [-0.28741423 -0.13493397  0.65902697 -1.406934    0.13066659]\n",
            "Best Fitness: 2.531667692515466\n"
          ]
        }
      ]
    }
  ]
}