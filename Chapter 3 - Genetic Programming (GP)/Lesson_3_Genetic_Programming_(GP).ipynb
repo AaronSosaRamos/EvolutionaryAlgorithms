{
  "nbformat": 4,
  "nbformat_minor": 0,
  "metadata": {
    "colab": {
      "provenance": []
    },
    "kernelspec": {
      "name": "python3",
      "display_name": "Python 3"
    },
    "language_info": {
      "name": "python"
    }
  },
  "cells": [
    {
      "cell_type": "markdown",
      "source": [
        "#Genetic Programming (GP):3"
      ],
      "metadata": {
        "id": "8m7rwMm80l55"
      }
    },
    {
      "cell_type": "markdown",
      "source": [
        "#1. Tree-based Genetic Programming:\n",
        "Programs are represented as trees, and genetic operators are applied to tree structures (e.g., subtree crossover, subtree mutation)."
      ],
      "metadata": {
        "id": "0y6nhRZu0m_-"
      }
    },
    {
      "cell_type": "code",
      "execution_count": 6,
      "metadata": {
        "colab": {
          "base_uri": "https://localhost:8080/"
        },
        "id": "mAWvOfAz0PUM",
        "outputId": "4ae004d1-7b4f-436b-d099-afea1cf39b11"
      },
      "outputs": [
        {
          "output_type": "stream",
          "name": "stdout",
          "text": [
            "Original Tree 1:\n",
            "5\n",
            "\n",
            "Original Tree 2:\n",
            "4\n",
            "\n",
            "After Crossover - Tree 1:\n",
            "4\n",
            "\n",
            "After Crossover - Tree 2:\n",
            "5\n",
            "\n",
            "After Mutation - Tree 1:\n",
            "2\n"
          ]
        }
      ],
      "source": [
        "import random\n",
        "import operator\n",
        "\n",
        "# Define the set of functions and terminals\n",
        "# For demonstration purposes, let's consider basic arithmetic operations (+, -, *, /) and terminal values (constants)\n",
        "functions = {\n",
        "    '+': operator.add,\n",
        "    '-': operator.sub,\n",
        "    '*': operator.mul,\n",
        "    '/': operator.truediv  # Use truediv for floating-point division\n",
        "}\n",
        "\n",
        "# Terminal values (constants) - for simplicity, let's use integers\n",
        "terminals = [1, 2, 3, 4, 5]\n",
        "\n",
        "\n",
        "class Node:\n",
        "    def __init__(self, value):\n",
        "        self.value = value\n",
        "        self.children = []\n",
        "\n",
        "    def evaluate(self):\n",
        "        if self.value in functions:\n",
        "            # Evaluate the function recursively on child nodes\n",
        "            args = [child.evaluate() for child in self.children]\n",
        "            return functions[self.value](*args)\n",
        "        else:\n",
        "            # Terminal node (constant)\n",
        "            return self.value\n",
        "\n",
        "\n",
        "def create_random_tree(max_depth):\n",
        "    if max_depth == 1 or random.random() < 0.3:  # Terminal node\n",
        "        value = random.choice(terminals)\n",
        "        return Node(value)\n",
        "    else:  # Function node\n",
        "        value = random.choice(list(functions.keys()))\n",
        "        node = Node(value)\n",
        "        arity = len(functions[value])  # Arity of the selected function\n",
        "        for _ in range(arity):\n",
        "            node.children.append(create_random_tree(max_depth - 1))\n",
        "        return node\n",
        "\n",
        "\n",
        "def subtree_crossover(tree1, tree2):\n",
        "    # Select a random node from each tree\n",
        "    random_node1 = get_random_node(tree1)\n",
        "    random_node2 = get_random_node(tree2)\n",
        "\n",
        "    # Swap subtrees\n",
        "    random_node1.value, random_node2.value = random_node2.value, random_node1.value\n",
        "    random_node1.children, random_node2.children = random_node2.children, random_node1.children\n",
        "\n",
        "\n",
        "def subtree_mutation(tree, max_depth):\n",
        "    random_node = get_random_node(tree)\n",
        "    if random_node.children:\n",
        "        # Replace the subtree with a new randomly generated subtree\n",
        "        random_node.children = [create_random_tree(max_depth - 1) for _ in range(len(random_node.children))]\n",
        "    else:\n",
        "        # Node is a terminal, replace with a new terminal value\n",
        "        random_node.value = random.choice(terminals)\n",
        "\n",
        "\n",
        "def get_random_node(tree):\n",
        "    # Traverse the tree to select a random node\n",
        "    nodes = [tree]\n",
        "    while nodes:\n",
        "        node = random.choice(nodes)\n",
        "        if node.children:\n",
        "            nodes.extend(node.children)\n",
        "        else:\n",
        "            return node\n",
        "\n",
        "\n",
        "# Example usage\n",
        "tree1 = create_random_tree(max_depth=3)\n",
        "tree2 = create_random_tree(max_depth=2)\n",
        "\n",
        "print(\"Original Tree 1:\")\n",
        "print(tree1.evaluate())\n",
        "\n",
        "print(\"\\nOriginal Tree 2:\")\n",
        "print(tree2.evaluate())\n",
        "\n",
        "# Perform subtree crossover\n",
        "subtree_crossover(tree1, tree2)\n",
        "\n",
        "print(\"\\nAfter Crossover - Tree 1:\")\n",
        "print(tree1.evaluate())\n",
        "\n",
        "print(\"\\nAfter Crossover - Tree 2:\")\n",
        "print(tree2.evaluate())\n",
        "\n",
        "# Perform subtree mutation\n",
        "subtree_mutation(tree1, max_depth=3)\n",
        "\n",
        "print(\"\\nAfter Mutation - Tree 1:\")\n",
        "print(tree1.evaluate())"
      ]
    },
    {
      "cell_type": "markdown",
      "source": [
        "#2. Linear Genetic Programming (LGP)"
      ],
      "metadata": {
        "id": "xL7PvcLj3ZeE"
      }
    },
    {
      "cell_type": "markdown",
      "source": [
        "Linear Genetic Programming (LGP) represents programs as linear sequences of instructions, typically using fixed-length arrays of instructions or a list of operations and operands. The evolution of programs in LGP involves applying genetic operations such as crossover and mutation directly on these linear sequences."
      ],
      "metadata": {
        "id": "YzzWy17K3bbC"
      }
    },
    {
      "cell_type": "code",
      "source": [
        "import random\n",
        "import operator\n",
        "\n",
        "# Define the set of functions and terminals\n",
        "functions = {\n",
        "    '+': operator.add,\n",
        "    '-': operator.sub,\n",
        "    '*': operator.mul,\n",
        "    '/': operator.truediv\n",
        "}\n",
        "\n",
        "# Terminal values (constants) - for simplicity, let's use integers\n",
        "terminals = [1, 2, 3, 4, 5]\n",
        "\n",
        "# Define the maximum length of the program (number of instructions)\n",
        "max_length = 10\n",
        "\n",
        "\n",
        "def create_random_program():\n",
        "    program_length = random.randint(1, max_length)\n",
        "    program = []\n",
        "    for _ in range(program_length):\n",
        "        if random.random() < 0.5:  # Use a function/operator\n",
        "            function = random.choice(list(functions.keys()))\n",
        "            program.append(function)\n",
        "        else:  # Use a terminal value\n",
        "            terminal = random.choice(terminals)\n",
        "            program.append(terminal)\n",
        "    return program\n",
        "\n",
        "\n",
        "def evaluate_program(program):\n",
        "    stack = []\n",
        "    for instruction in program:\n",
        "        if isinstance(instruction, int):  # Push terminal value onto stack\n",
        "            stack.append(instruction)\n",
        "        elif instruction in functions:  # Apply function/operator\n",
        "            if len(stack) < 2:\n",
        "                continue  # Invalid operation, skip\n",
        "            operand2 = stack.pop()\n",
        "            operand1 = stack.pop()\n",
        "            result = functions[instruction](operand1, operand2)\n",
        "            stack.append(result)\n",
        "    if stack:\n",
        "        return stack[-1]\n",
        "    else:\n",
        "        return None\n",
        "\n",
        "\n",
        "def crossover(parent1, parent2):\n",
        "    # Perform one-point crossover\n",
        "    if len(parent1) < 2 or len(parent2) < 2:\n",
        "        return parent1, parent2\n",
        "\n",
        "    crossover_point = random.randint(1, min(len(parent1), len(parent2)) - 1)\n",
        "    child1 = parent1[:crossover_point] + parent2[crossover_point:]\n",
        "    child2 = parent2[:crossover_point] + parent1[crossover_point:]\n",
        "    return child1, child2\n",
        "\n",
        "\n",
        "def mutate(program, mutation_rate):\n",
        "    mutated_program = program[:]\n",
        "    for i in range(len(mutated_program)):\n",
        "        if random.random() < mutation_rate:\n",
        "            if isinstance(mutated_program[i], int):  # Mutate terminal to a different value\n",
        "                mutated_program[i] = random.choice(terminals)\n",
        "            else:  # Mutate function/operator to a different one\n",
        "                mutated_program[i] = random.choice(list(functions.keys()))\n",
        "    return mutated_program\n",
        "\n",
        "\n",
        "# Example usage\n",
        "parent1 = create_random_program()\n",
        "parent2 = create_random_program()\n",
        "\n",
        "print(\"Parent 1:\", parent1)\n",
        "print(\"Parent 2:\", parent2)\n",
        "\n",
        "# Perform crossover\n",
        "child1, child2 = crossover(parent1, parent2)\n",
        "print(\"\\nChild 1 after crossover:\", child1)\n",
        "print(\"Child 2 after crossover:\", child2)\n",
        "\n",
        "# Perform mutation on child 1\n",
        "mutation_rate = 0.2\n",
        "mutated_child1 = mutate(child1, mutation_rate)\n",
        "print(\"\\nMutated Child 1:\", mutated_child1)\n",
        "\n",
        "# Evaluate programs\n",
        "print(\"\\nEvaluation of Parent 1:\", evaluate_program(parent1))\n",
        "print(\"Evaluation of Parent 2:\", evaluate_program(parent2))\n",
        "print(\"Evaluation of Child 1 after mutation:\", evaluate_program(mutated_child1))"
      ],
      "metadata": {
        "colab": {
          "base_uri": "https://localhost:8080/"
        },
        "id": "HRTt9v4T1r8t",
        "outputId": "75e3f0cb-08e2-494d-8089-37b72484570b"
      },
      "execution_count": 7,
      "outputs": [
        {
          "output_type": "stream",
          "name": "stdout",
          "text": [
            "Parent 1: [1, 5, '/', 1]\n",
            "Parent 2: [3, '-', 3]\n",
            "\n",
            "Child 1 after crossover: [1, '-', 3]\n",
            "Child 2 after crossover: [3, 5, '/', 1]\n",
            "\n",
            "Mutated Child 1: [1, '-', 3]\n",
            "\n",
            "Evaluation of Parent 1: 1\n",
            "Evaluation of Parent 2: 3\n",
            "Evaluation of Child 1 after mutation: 3\n"
          ]
        }
      ]
    },
    {
      "cell_type": "markdown",
      "source": [
        "#3. Grammatical Evolution (GE)"
      ],
      "metadata": {
        "id": "If7ELAgu3dQW"
      }
    },
    {
      "cell_type": "markdown",
      "source": [
        "Evolution (GE) is a type of Genetic Programming (GP) that incorporates grammatical rules to guide the evolution of solutions, ensuring that the evolved programs adhere to a specified grammar. In GE, programs are represented as sequences of symbols derived from a context-free grammar. The genetic operations such as crossover and mutation are applied to these symbol sequences while maintaining grammatical correctness"
      ],
      "metadata": {
        "id": "sHkbYW4m35HW"
      }
    },
    {
      "cell_type": "code",
      "source": [
        "import random\n",
        "\n",
        "# Define the grammar rules\n",
        "grammar = {\n",
        "    \"<expr>\": [\"<expr>+<expr>\", \"<expr>-<expr>\", \"sin(<expr>)\", \"cos(<expr>)\", \"x\"],\n",
        "    \"<start>\": [\"<expr>\"]\n",
        "}\n",
        "\n",
        "# Function to expand a nonterminal symbol based on the grammar\n",
        "def expand_symbol(symbol):\n",
        "    if symbol in grammar:\n",
        "        choices = grammar[symbol]\n",
        "        selected_choice = random.choice(choices)\n",
        "        return selected_choice\n",
        "    else:\n",
        "        return symbol\n",
        "\n",
        "# Function to generate an individual (string) based on the grammar\n",
        "def generate_individual(start_symbol):\n",
        "    stack = [start_symbol]\n",
        "    result = []\n",
        "\n",
        "    while stack:\n",
        "        symbol = stack.pop()\n",
        "        if symbol in grammar:\n",
        "            choices = grammar[symbol]\n",
        "            selected_choice = random.choice(choices)\n",
        "            # Push symbols in reverse order to emulate depth-first expansion\n",
        "            stack.extend(reversed(selected_choice.split()))\n",
        "        else:\n",
        "            result.append(symbol)\n",
        "\n",
        "    return ''.join(result)\n",
        "\n",
        "# Fitness function (example: evaluate the individual fitness)\n",
        "def fitness_function(individual):\n",
        "    # Example fitness: count the number of 'x' symbols in the individual\n",
        "    return individual.count('x')\n",
        "\n",
        "# Genetic algorithm parameters\n",
        "population_size = 100\n",
        "num_generations = 50\n",
        "mutation_rate = 0.1\n",
        "\n",
        "# Generate initial population\n",
        "population = [generate_individual(\"<start>\") for _ in range(population_size)]\n",
        "\n",
        "# Main loop for genetic algorithm\n",
        "for generation in range(num_generations):\n",
        "    # Evaluate fitness of each individual\n",
        "    fitness_scores = [fitness_function(individual) for individual in population]\n",
        "\n",
        "    # Select individuals for reproduction (tournament selection)\n",
        "    selected_indices = random.choices(range(population_size), k=population_size, weights=fitness_scores)\n",
        "    selected_population = [population[i] for i in selected_indices]\n",
        "\n",
        "    # Create new population through crossover and mutation\n",
        "    new_population = []\n",
        "    while len(new_population) < population_size:\n",
        "        parent1 = random.choice(selected_population)\n",
        "        parent2 = random.choice(selected_population)\n",
        "\n",
        "        # Calculate crossover point ensuring it's at least 1\n",
        "        max_crossover_point = min(len(parent1), len(parent2)) - 1\n",
        "        if max_crossover_point < 1:\n",
        "            continue  # Skip this iteration if crossover is not possible\n",
        "\n",
        "        crossover_point = random.randint(1, max_crossover_point)\n",
        "        child = parent1[:crossover_point] + parent2[crossover_point:]\n",
        "\n",
        "        # Mutation (randomly change a character in the child)\n",
        "        if random.random() < mutation_rate:\n",
        "            mutate_index = random.randint(0, len(child) - 1)\n",
        "            child = child[:mutate_index] + random.choice('abcdefghijklmnopqrstuvwxyz+-*()') + child[mutate_index+1:]\n",
        "\n",
        "        new_population.append(child)\n",
        "\n",
        "\n",
        "    # Replace old population with new population\n",
        "    population = new_population\n",
        "\n",
        "# Select the best individual from the final population\n",
        "best_individual = max(population, key=fitness_function)\n",
        "best_fitness = fitness_function(best_individual)\n",
        "\n",
        "print(\"Best Individual:\", best_individual)\n",
        "print(\"Best Fitness:\", best_fitness)\n"
      ],
      "metadata": {
        "colab": {
          "base_uri": "https://localhost:8080/"
        },
        "id": "ZcGPto_C4VZB",
        "outputId": "fcb298b0-926b-48de-e5a1-98284e0be5ef"
      },
      "execution_count": 16,
      "outputs": [
        {
          "output_type": "stream",
          "name": "stdout",
          "text": [
            "Best Individual: <oxxrgxxrxsr>\n",
            "Best Fitness: 5\n"
          ]
        }
      ]
    },
    {
      "cell_type": "markdown",
      "source": [
        "#4. Gene Expression Programming (GEP):\n",
        "Uses linear chromosomes to represent programs, which are then expressed as trees during evaluation.\n"
      ],
      "metadata": {
        "id": "vXjeqhnd7No6"
      }
    },
    {
      "cell_type": "code",
      "source": [
        "import random\n",
        "import operator\n",
        "\n",
        "# Define the set of operations and terminals\n",
        "OPERATIONS = {'+': operator.add,\n",
        "              '-': operator.sub,\n",
        "              '*': operator.mul,\n",
        "              '/': operator.truediv}\n",
        "\n",
        "# Constants or variables (for simplicity, we'll use constants)\n",
        "TERMINALS = [random.uniform(-10, 10) for _ in range(5)]  # Generate random constants\n",
        "\n",
        "\n",
        "class Gene:\n",
        "    def __init__(self):\n",
        "        self.value = random.choice(list(OPERATIONS.keys()) + TERMINALS)\n",
        "\n",
        "\n",
        "class Chromosome:\n",
        "    def __init__(self, length):\n",
        "        self.genes = [Gene() for _ in range(length)]\n",
        "\n",
        "    def __str__(self):\n",
        "        return ''.join(str(gene.value) for gene in self.genes)\n",
        "\n",
        "    def evaluate_tree(self):\n",
        "        expression = self.__build_tree(0)[0]\n",
        "        return expression\n",
        "\n",
        "    def __build_tree(self, index):\n",
        "        if isinstance(self.genes[index].value, str):  # Operation\n",
        "            op = self.genes[index].value\n",
        "            left, left_end = self.__build_tree(index + 1)\n",
        "            right, right_end = self.__build_tree(left_end + 1)\n",
        "            return (OPERATIONS[op], left, right), right_end\n",
        "        else:  # Terminal\n",
        "            return self.genes[index].value, index\n",
        "\n",
        "\n",
        "def evaluate_expression(expression, x):\n",
        "    if isinstance(expression, tuple):  # Operation\n",
        "        op, left, right = expression\n",
        "        return op(evaluate_expression(left, x), evaluate_expression(right, x))\n",
        "    else:  # Terminal (constant or variable)\n",
        "        return expression\n",
        "\n",
        "\n",
        "# Example usage:\n",
        "chromosome_length = 7\n",
        "chromosome = Chromosome(chromosome_length)\n",
        "print(\"Chromosome:\", chromosome)\n",
        "\n",
        "# Evaluate the tree expression\n",
        "tree_expression = chromosome.evaluate_tree()\n",
        "print(\"Tree Expression:\", tree_expression)\n",
        "\n",
        "# Evaluate the tree expression for a specific value of x\n",
        "x_value = 3\n",
        "result = evaluate_expression(tree_expression, x_value)\n",
        "print(f\"Result for x={x_value}: {result}\")\n"
      ],
      "metadata": {
        "colab": {
          "base_uri": "https://localhost:8080/"
        },
        "id": "hctjAuBN7dQT",
        "outputId": "0144c8c9-7b59-4371-83e0-7c1f2b1273b8"
      },
      "execution_count": 18,
      "outputs": [
        {
          "output_type": "stream",
          "name": "stdout",
          "text": [
            "Chromosome: -0.10983615658467016-8.81376327656091-3.8678925847211376-0.10983615658467016-8.81376327656091/-\n",
            "Tree Expression: -0.10983615658467016\n",
            "Result for x=3: -0.10983615658467016\n"
          ]
        }
      ]
    },
    {
      "cell_type": "markdown",
      "source": [
        "#5. Evolvable Hardware (EHW):\n",
        "Applies genetic programming techniques to evolve electronic circuits or hardware designs."
      ],
      "metadata": {
        "id": "U8znHJoD7xkm"
      }
    },
    {
      "cell_type": "code",
      "source": [
        "%pip install deap"
      ],
      "metadata": {
        "colab": {
          "base_uri": "https://localhost:8080/"
        },
        "id": "TKcAspla70A-",
        "outputId": "71d6d763-558c-45e6-e710-7bdcfd42865c"
      },
      "execution_count": 19,
      "outputs": [
        {
          "output_type": "stream",
          "name": "stdout",
          "text": [
            "Collecting deap\n",
            "  Downloading deap-1.4.1-cp310-cp310-manylinux_2_5_x86_64.manylinux1_x86_64.manylinux_2_17_x86_64.manylinux2014_x86_64.whl (135 kB)\n",
            "\u001b[?25l     \u001b[90m━━━━━━━━━━━━━━━━━━━━━━━━━━━━━━━━━━━━━━━━\u001b[0m \u001b[32m0.0/135.4 kB\u001b[0m \u001b[31m?\u001b[0m eta \u001b[36m-:--:--\u001b[0m\r\u001b[2K     \u001b[91m━━━━━━━━━━━━━━━━━━━━━━━━━━━\u001b[0m\u001b[90m╺\u001b[0m\u001b[90m━━━━━━━━━━━━\u001b[0m \u001b[32m92.2/135.4 kB\u001b[0m \u001b[31m2.7 MB/s\u001b[0m eta \u001b[36m0:00:01\u001b[0m\r\u001b[2K     \u001b[90m━━━━━━━━━━━━━━━━━━━━━━━━━━━━━━━━━━━━━━━━\u001b[0m \u001b[32m135.4/135.4 kB\u001b[0m \u001b[31m3.0 MB/s\u001b[0m eta \u001b[36m0:00:00\u001b[0m\n",
            "\u001b[?25hRequirement already satisfied: numpy in /usr/local/lib/python3.10/dist-packages (from deap) (1.25.2)\n",
            "Installing collected packages: deap\n",
            "Successfully installed deap-1.4.1\n"
          ]
        }
      ]
    },
    {
      "cell_type": "code",
      "source": [
        "import numpy as np\n",
        "import random\n",
        "import matplotlib.pyplot as plt\n",
        "from deap import base, creator, tools, algorithms\n",
        "\n",
        "\n",
        "# Define the target function: Square wave generator\n",
        "def square_wave_generator(x, a, b):\n",
        "    return 1 if (a < x % (a + b) <= a + b / 2) else 0\n",
        "\n",
        "\n",
        "# Define the evaluation function for the electronic circuit (fitness function)\n",
        "def evaluate_circuit(individual):\n",
        "    error = 0\n",
        "    # Evaluate the circuit over a range of input values\n",
        "    for x in range(100):\n",
        "        predicted_output = execute_circuit(individual, x)\n",
        "        target_output = square_wave_generator(x, 10, 20)  # Target square wave\n",
        "        error += abs(predicted_output - target_output)\n",
        "    return error,\n",
        "\n",
        "\n",
        "# Define a function to execute the circuit based on the genotype\n",
        "def execute_circuit(individual, x):\n",
        "    # Individual is an np.ndarray of boolean values (0 or 1)\n",
        "    # Example: individual = [1, 0, 1, 0, 1, 1, 0, 1, 0, 1]\n",
        "    # Implement your circuit logic here based on the genotype\n",
        "    # For simplicity, we'll use a basic logic to compute the output\n",
        "    output = sum(individual) % 2  # Example: XOR-like behavior\n",
        "    return output\n",
        "\n",
        "\n",
        "# Create a toolbox for genetic programming\n",
        "toolbox = base.Toolbox()\n",
        "\n",
        "# Define the individual (circuit) representation\n",
        "creator.create(\"FitnessMin\", base.Fitness, weights=(-1.0,))\n",
        "creator.create(\"Individual\", np.ndarray, fitness=creator.FitnessMin)\n",
        "\n",
        "# Register individual creation function\n",
        "toolbox.register(\"attr_bool\", random.randint, 0, 1)\n",
        "toolbox.register(\"individual\", tools.initRepeat, creator.Individual, toolbox.attr_bool, n=10)\n",
        "\n",
        "# Register population creation functions\n",
        "toolbox.register(\"population\", tools.initRepeat, list, toolbox.individual)\n",
        "\n",
        "# Register genetic operators\n",
        "toolbox.register(\"mate\", tools.cxTwoPoint)\n",
        "toolbox.register(\"mutate\", tools.mutFlipBit, indpb=0.05)\n",
        "toolbox.register(\"select\", tools.selTournament, tournsize=3)\n",
        "toolbox.register(\"evaluate\", evaluate_circuit)\n",
        "\n",
        "# Define main evolutionary algorithm\n",
        "def main():\n",
        "    random.seed(42)\n",
        "\n",
        "    pop_size = 100\n",
        "    num_generations = 50\n",
        "\n",
        "    population = toolbox.population(n=pop_size)\n",
        "    hall_of_fame = tools.HallOfFame(1)\n",
        "    stats = tools.Statistics(lambda ind: ind.fitness.values)\n",
        "    stats.register(\"avg\", np.mean)\n",
        "    stats.register(\"min\", np.min)\n",
        "\n",
        "    population, logbook = algorithms.eaSimple(population, toolbox, cxpb=0.5, mutpb=0.2,\n",
        "                                              ngen=num_generations, stats=stats,\n",
        "                                              halloffame=hall_of_fame, verbose=True)\n",
        "\n",
        "    # Return the best individual found\n",
        "    return hall_of_fame[0], logbook\n",
        "\n",
        "\n",
        "if __name__ == \"__main__\":\n",
        "    best_individual, logbook = main()\n",
        "\n",
        "    # Plotting the evolution statistics\n",
        "    gen = logbook.select(\"gen\")\n",
        "    min_fit = logbook.select(\"min\")\n",
        "    avg_fit = logbook.select(\"avg\")\n",
        "\n",
        "    plt.plot(gen, min_fit, label=\"Minimum Fitness\")\n",
        "    plt.plot(gen, avg_fit, label=\"Average Fitness\")\n",
        "    plt.xlabel(\"Generation\")\n",
        "    plt.ylabel(\"Fitness\")\n",
        "    plt.legend()\n",
        "    plt.show()"
      ],
      "metadata": {
        "colab": {
          "base_uri": "https://localhost:8080/",
          "height": 1000
        },
        "id": "C-Xiew3o8G9c",
        "outputId": "f3c2bb52-bde6-43ec-f792-2f2570e59f1b"
      },
      "execution_count": 21,
      "outputs": [
        {
          "output_type": "stream",
          "name": "stderr",
          "text": [
            "/usr/local/lib/python3.10/dist-packages/deap/creator.py:185: RuntimeWarning: A class named 'FitnessMin' has already been created and it will be overwritten. Consider deleting previous creation of that class or rename it.\n",
            "  warnings.warn(\"A class named '{0}' has already been created and it \"\n",
            "/usr/local/lib/python3.10/dist-packages/deap/creator.py:185: RuntimeWarning: A class named 'Individual' has already been created and it will be overwritten. Consider deleting previous creation of that class or rename it.\n",
            "  warnings.warn(\"A class named '{0}' has already been created and it \"\n"
          ]
        },
        {
          "output_type": "stream",
          "name": "stdout",
          "text": [
            "gen\tnevals\tavg \tmin\n",
            "0  \t100   \t48.4\t30 \n",
            "1  \t66    \t38.4\t30 \n",
            "2  \t51    \t34.4\t30 \n",
            "3  \t64    \t37.2\t30 \n",
            "4  \t58    \t37.6\t30 \n",
            "5  \t63    \t36.4\t30 \n",
            "6  \t56    \t38  \t30 \n",
            "7  \t63    \t37.6\t30 \n",
            "8  \t60    \t36.4\t30 \n",
            "9  \t57    \t36  \t30 \n",
            "10 \t59    \t36.4\t30 \n",
            "11 \t52    \t38.4\t30 \n",
            "12 \t64    \t36.8\t30 \n",
            "13 \t65    \t38.4\t30 \n",
            "14 \t61    \t35.2\t30 \n",
            "15 \t63    \t38.8\t30 \n",
            "16 \t58    \t36  \t30 \n",
            "17 \t64    \t38.8\t30 \n",
            "18 \t52    \t36.4\t30 \n",
            "19 \t61    \t34.4\t30 \n",
            "20 \t68    \t37.2\t30 \n",
            "21 \t65    \t40  \t30 \n",
            "22 \t62    \t37.6\t30 \n",
            "23 \t58    \t36.8\t30 \n",
            "24 \t51    \t37.2\t30 \n",
            "25 \t53    \t33.2\t30 \n",
            "26 \t64    \t38.4\t30 \n",
            "27 \t68    \t37.6\t30 \n",
            "28 \t59    \t38.4\t30 \n",
            "29 \t59    \t36.8\t30 \n",
            "30 \t67    \t36.8\t30 \n",
            "31 \t54    \t35.6\t30 \n",
            "32 \t60    \t39.2\t30 \n",
            "33 \t57    \t36  \t30 \n",
            "34 \t67    \t38  \t30 \n",
            "35 \t60    \t36  \t30 \n",
            "36 \t52    \t37.2\t30 \n",
            "37 \t76    \t37.6\t30 \n",
            "38 \t73    \t37.2\t30 \n",
            "39 \t62    \t38  \t30 \n",
            "40 \t60    \t36.4\t30 \n",
            "41 \t53    \t33.6\t30 \n",
            "42 \t71    \t37.6\t30 \n",
            "43 \t66    \t36.8\t30 \n",
            "44 \t55    \t36  \t30 \n",
            "45 \t65    \t39.6\t30 \n",
            "46 \t58    \t38  \t30 \n",
            "47 \t58    \t34.8\t30 \n",
            "48 \t62    \t37.6\t30 \n",
            "49 \t52    \t36  \t30 \n",
            "50 \t53    \t32.4\t30 \n"
          ]
        },
        {
          "output_type": "display_data",
          "data": {
            "text/plain": [
              "<Figure size 640x480 with 1 Axes>"
            ],
            "image/png": "[encoded data removed]"
          },
          "metadata": {}
        }
      ]
    }
  ]
}