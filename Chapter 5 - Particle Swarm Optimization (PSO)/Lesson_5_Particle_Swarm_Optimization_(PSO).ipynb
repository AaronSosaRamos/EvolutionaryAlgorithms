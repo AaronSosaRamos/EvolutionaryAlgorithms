{
  "nbformat": 4,
  "nbformat_minor": 0,
  "metadata": {
    "colab": {
      "provenance": []
    },
    "kernelspec": {
      "name": "python3",
      "display_name": "Python 3"
    },
    "language_info": {
      "name": "python"
    }
  },
  "cells": [
    {
      "cell_type": "markdown",
      "source": [
        "#Particle Swarm Optimization (PSO)"
      ],
      "metadata": {
        "id": "ZEB8Hb9QVxtx"
      }
    },
    {
      "cell_type": "markdown",
      "source": [
        "Basic PSO algorithm with particles moving towards their personal best and global best positions."
      ],
      "metadata": {
        "id": "U9wtXfwfVzCR"
      }
    },
    {
      "cell_type": "code",
      "execution_count": null,
      "metadata": {
        "colab": {
          "base_uri": "https://localhost:8080/"
        },
        "id": "BTTCcv0DUlrm",
        "outputId": "f0c42061-6398-4fc2-e2ae-ba1c7ebe3680"
      },
      "outputs": [
        {
          "output_type": "stream",
          "name": "stdout",
          "text": [
            "Best solution: [-1.31003618e-07  1.13308902e-07]\n",
            "Best fitness: 3.000085527378561e-14\n"
          ]
        }
      ],
      "source": [
        "import numpy as np\n",
        "\n",
        "class Particle:\n",
        "    def __init__(self, position_dim, search_space):\n",
        "        \"\"\"\n",
        "        Initialize a particle with random position and zero velocity.\n",
        "\n",
        "        Args:\n",
        "        - position_dim (int): Dimensionality of the position space.\n",
        "        - search_space (tuple of numpy arrays): Defines the lower and upper bounds of the search space for each dimension.\n",
        "        \"\"\"\n",
        "        self.position = np.random.uniform(search_space[0], search_space[1], position_dim)\n",
        "        self.velocity = np.zeros(position_dim)\n",
        "        self.personal_best = np.copy(self.position)\n",
        "\n",
        "def pso(objective_function, search_space, num_particles, max_iter, inertia_weight, c1, c2):\n",
        "    \"\"\"\n",
        "    Standard Particle Swarm Optimization (PSO) algorithm.\n",
        "\n",
        "    Args:\n",
        "    - objective_function (callable): The objective function to be minimized.\n",
        "    - search_space (tuple of numpy arrays): Defines the lower and upper bounds of the search space for each dimension.\n",
        "    - num_particles (int): Number of particles in the swarm.\n",
        "    - max_iter (int): Maximum number of iterations.\n",
        "    - inertia_weight (float): Inertia weight parameter.\n",
        "    - c1 (float): Cognitive parameter.\n",
        "    - c2 (float): Social parameter.\n",
        "\n",
        "    Returns:\n",
        "    - tuple: Best solution found and its fitness value.\n",
        "    \"\"\"\n",
        "    position_dim = len(search_space[0])\n",
        "    global_best = None\n",
        "    global_best_fitness = float('inf')\n",
        "    swarm = [Particle(position_dim, search_space) for _ in range(num_particles)]\n",
        "\n",
        "    # Main optimization loop\n",
        "    for _ in range(max_iter):\n",
        "        # Update personal and global best positions\n",
        "        for particle in swarm:\n",
        "            fitness = objective_function(particle.position)\n",
        "            if fitness < global_best_fitness:\n",
        "                global_best = np.copy(particle.position)\n",
        "                global_best_fitness = fitness\n",
        "            if fitness < objective_function(particle.personal_best):\n",
        "                particle.personal_best = np.copy(particle.position)\n",
        "\n",
        "        # Update particle velocities and positions\n",
        "        for particle in swarm:\n",
        "            rand1 = np.random.rand(position_dim)\n",
        "            rand2 = np.random.rand(position_dim)\n",
        "            particle.velocity = (inertia_weight * particle.velocity +\n",
        "                                 c1 * rand1 * (particle.personal_best - particle.position) +\n",
        "                                 c2 * rand2 * (global_best - particle.position))\n",
        "            particle.position += particle.velocity\n",
        "\n",
        "    return global_best, global_best_fitness\n",
        "\n",
        "# Example usage:\n",
        "def sphere_function(x):\n",
        "    return np.sum(x**2)\n",
        "\n",
        "search_space = [np.array([-5.12, -5.12]), np.array([5.12, 5.12])]\n",
        "num_particles = 30\n",
        "max_iter = 100\n",
        "inertia_weight = 0.7\n",
        "c1 = 1.5\n",
        "c2 = 1.5\n",
        "\n",
        "best_solution, best_fitness = pso(sphere_function, search_space, num_particles, max_iter, inertia_weight, c1, c2)\n",
        "print(\"Best solution:\", best_solution)\n",
        "print(\"Best fitness:\", best_fitness)"
      ]
    },
    {
      "cell_type": "markdown",
      "source": [
        "#Constricted Particle Swarm Optimization (CPSO):\n",
        "Introduces velocity clamping to improve convergence behavior and stability."
      ],
      "metadata": {
        "id": "wsQY7C7jWp_5"
      }
    },
    {
      "cell_type": "code",
      "source": [
        "import numpy as np\n",
        "\n",
        "class Particle:\n",
        "    def __init__(self, position_dim, search_space, max_velocity):\n",
        "        \"\"\"\n",
        "        Initialize a particle with random position and velocity.\n",
        "\n",
        "        Args:\n",
        "        - position_dim (int): Dimensionality of the position space.\n",
        "        - search_space (tuple of numpy arrays): Defines the lower and upper bounds of the search space for each dimension.\n",
        "        - max_velocity (float): Maximum allowed velocity for each dimension.\n",
        "        \"\"\"\n",
        "        self.position = np.random.uniform(search_space[0], search_space[1], position_dim)\n",
        "        self.velocity = np.zeros(position_dim)\n",
        "        self.personal_best = np.copy(self.position)\n",
        "        self.max_velocity = max_velocity\n",
        "\n",
        "def cpso(objective_function, search_space, num_particles, max_iter, inertia_weight, c1, c2, max_velocity):\n",
        "    \"\"\"\n",
        "    Constricted Particle Swarm Optimization (CPSO) algorithm.\n",
        "\n",
        "    Args:\n",
        "    - objective_function (callable): The objective function to be minimized.\n",
        "    - search_space (tuple of numpy arrays): Defines the lower and upper bounds of the search space for each dimension.\n",
        "    - num_particles (int): Number of particles in the swarm.\n",
        "    - max_iter (int): Maximum number of iterations.\n",
        "    - inertia_weight (float): Inertia weight parameter.\n",
        "    - c1 (float): Cognitive parameter.\n",
        "    - c2 (float): Social parameter.\n",
        "    - max_velocity (float): Maximum allowed velocity for each dimension.\n",
        "\n",
        "    Returns:\n",
        "    - tuple: Best solution found and its fitness value.\n",
        "    \"\"\"\n",
        "    position_dim = len(search_space[0])\n",
        "    global_best = None\n",
        "    global_best_fitness = float('inf')\n",
        "    swarm = [Particle(position_dim, search_space, max_velocity) for _ in range(num_particles)]\n",
        "\n",
        "    # Main optimization loop\n",
        "    for _ in range(max_iter):\n",
        "        # Update personal and global best positions\n",
        "        for particle in swarm:\n",
        "            fitness = objective_function(particle.position)\n",
        "            if fitness < global_best_fitness:\n",
        "                global_best = np.copy(particle.position)\n",
        "                global_best_fitness = fitness\n",
        "            if fitness < objective_function(particle.personal_best):\n",
        "                particle.personal_best = np.copy(particle.position)\n",
        "\n",
        "        # Update particle velocities and positions\n",
        "        for particle in swarm:\n",
        "            rand1 = np.random.rand(position_dim)\n",
        "            rand2 = np.random.rand(position_dim)\n",
        "            particle.velocity = (inertia_weight * particle.velocity +\n",
        "                                 c1 * rand1 * (particle.personal_best - particle.position) +\n",
        "                                 c2 * rand2 * (global_best - particle.position))\n",
        "            # Apply velocity clamping\n",
        "            particle.velocity = np.clip(particle.velocity, -particle.max_velocity, particle.max_velocity)\n",
        "            particle.position += particle.velocity\n",
        "\n",
        "    return global_best, global_best_fitness\n",
        "\n",
        "# Example usage:\n",
        "def sphere_function(x):\n",
        "    return np.sum(x**2)\n",
        "\n",
        "search_space = [np.array([-5.12, -5.12]), np.array([5.12, 5.12])]\n",
        "num_particles = 30\n",
        "max_iter = 100\n",
        "inertia_weight = 0.7\n",
        "c1 = 1.5\n",
        "c2 = 1.5\n",
        "max_velocity = 0.5  # Adjust as needed\n",
        "\n",
        "best_solution, best_fitness = cpso(sphere_function, search_space, num_particles, max_iter, inertia_weight, c1, c2, max_velocity)\n",
        "print(\"Best solution:\", best_solution)\n",
        "print(\"Best fitness:\", best_fitness)"
      ],
      "metadata": {
        "colab": {
          "base_uri": "https://localhost:8080/"
        },
        "id": "gFElQN3-Wrdo",
        "outputId": "546ee618-9b6d-426a-d657-aa7eeb2df157"
      },
      "execution_count": null,
      "outputs": [
        {
          "output_type": "stream",
          "name": "stdout",
          "text": [
            "Best solution: [1.19623158e-08 1.76568176e-08]\n",
            "Best fitness: 4.548602065509344e-16\n"
          ]
        }
      ]
    },
    {
      "cell_type": "markdown",
      "source": [
        "#3. Adaptive Particle Swarm Optimization:\n",
        "Adapts control parameters (e.g., inertia weight, acceleration coefficients) during optimization."
      ],
      "metadata": {
        "id": "uXi0UCQJW6m4"
      }
    },
    {
      "cell_type": "code",
      "source": [
        "import numpy as np\n",
        "\n",
        "class Particle:\n",
        "    def __init__(self, position_dim, search_space):\n",
        "        \"\"\"\n",
        "        Initialize a particle with random position and zero velocity.\n",
        "\n",
        "        Args:\n",
        "        - position_dim (int): Dimensionality of the position space.\n",
        "        - search_space (tuple of numpy arrays): Defines the lower and upper bounds of the search space for each dimension.\n",
        "        \"\"\"\n",
        "        self.position = np.random.uniform(search_space[0], search_space[1], position_dim)\n",
        "        self.velocity = np.zeros(position_dim)\n",
        "        self.personal_best = np.copy(self.position)\n",
        "\n",
        "def apso(objective_function, search_space, num_particles, max_iter, inertia_weight, c1, c2, inertia_weight_decay, c1_decay, c2_decay):\n",
        "    \"\"\"\n",
        "    Adaptive Particle Swarm Optimization (APSO) algorithm.\n",
        "\n",
        "    Args:\n",
        "    - objective_function (callable): The objective function to be minimized.\n",
        "    - search_space (tuple of numpy arrays): Defines the lower and upper bounds of the search space for each dimension.\n",
        "    - num_particles (int): Number of particles in the swarm.\n",
        "    - max_iter (int): Maximum number of iterations.\n",
        "    - inertia_weight (float): Initial inertia weight parameter.\n",
        "    - c1 (float): Initial cognitive parameter.\n",
        "    - c2 (float): Initial social parameter.\n",
        "    - inertia_weight_decay (float): Decay rate for the inertia weight.\n",
        "    - c1_decay (float): Decay rate for the cognitive parameter.\n",
        "    - c2_decay (float): Decay rate for the social parameter.\n",
        "\n",
        "    Returns:\n",
        "    - tuple: Best solution found and its fitness value.\n",
        "    \"\"\"\n",
        "    position_dim = len(search_space[0])\n",
        "    global_best = None\n",
        "    global_best_fitness = float('inf')\n",
        "    swarm = [Particle(position_dim, search_space) for _ in range(num_particles)]\n",
        "\n",
        "    # Main optimization loop\n",
        "    for iter in range(max_iter):\n",
        "        # Update control parameters\n",
        "        inertia_weight *= inertia_weight_decay\n",
        "        c1 *= c1_decay\n",
        "        c2 *= c2_decay\n",
        "\n",
        "        # Update personal and global best positions\n",
        "        for particle in swarm:\n",
        "            fitness = objective_function(particle.position)\n",
        "            if fitness < global_best_fitness:\n",
        "                global_best = np.copy(particle.position)\n",
        "                global_best_fitness = fitness\n",
        "            if fitness < objective_function(particle.personal_best):\n",
        "                particle.personal_best = np.copy(particle.position)\n",
        "\n",
        "        # Update particle velocities and positions\n",
        "        for particle in swarm:\n",
        "            rand1 = np.random.rand(position_dim)\n",
        "            rand2 = np.random.rand(position_dim)\n",
        "            particle.velocity = (inertia_weight * particle.velocity +\n",
        "                                 c1 * rand1 * (particle.personal_best - particle.position) +\n",
        "                                 c2 * rand2 * (global_best - particle.position))\n",
        "            particle.position += particle.velocity\n",
        "\n",
        "    return global_best, global_best_fitness\n",
        "\n",
        "# Example usage:\n",
        "def sphere_function(x):\n",
        "    return np.sum(x**2)\n",
        "\n",
        "search_space = [np.array([-5.12, -5.12]), np.array([5.12, 5.12])]\n",
        "num_particles = 30\n",
        "max_iter = 100\n",
        "inertia_weight = 0.7\n",
        "c1 = 1.5\n",
        "c2 = 1.5\n",
        "inertia_weight_decay = 0.95\n",
        "c1_decay = 0.95\n",
        "c2_decay = 0.95\n",
        "\n",
        "best_solution, best_fitness = apso(sphere_function, search_space, num_particles, max_iter, inertia_weight, c1, c2, inertia_weight_decay, c1_decay, c2_decay)\n",
        "print(\"Best solution:\", best_solution)\n",
        "print(\"Best fitness:\", best_fitness)"
      ],
      "metadata": {
        "colab": {
          "base_uri": "https://localhost:8080/"
        },
        "id": "6zZy_QWnW9QQ",
        "outputId": "6e197c42-c067-49c3-d215-6ea062664707"
      },
      "execution_count": null,
      "outputs": [
        {
          "output_type": "stream",
          "name": "stdout",
          "text": [
            "Best solution: [9.03211837e-07 5.73290835e-07]\n",
            "Best fitness: 1.1444540044151956e-12\n"
          ]
        }
      ]
    },
    {
      "cell_type": "markdown",
      "source": [
        "#4. Dynamic Multi-swarm Particle Swarm Optimization:\n",
        "Uses multiple sub-swarms to enhance exploration and exploitation capabilities."
      ],
      "metadata": {
        "id": "_S03kbCsXvER"
      }
    },
    {
      "cell_type": "code",
      "source": [
        "import numpy as np\n",
        "\n",
        "class Particle:\n",
        "    def __init__(self, position_dim, search_space):\n",
        "        \"\"\"\n",
        "        Initialize a particle with random position and zero velocity.\n",
        "\n",
        "        Args:\n",
        "        - position_dim (int): Dimensionality of the position space.\n",
        "        - search_space (tuple of numpy arrays): Defines the lower and upper bounds of the search space for each dimension.\n",
        "        \"\"\"\n",
        "        self.position = np.random.uniform(search_space[0], search_space[1], position_dim)\n",
        "        self.velocity = np.zeros(position_dim)\n",
        "        self.personal_best = np.copy(self.position)\n",
        "\n",
        "def dms_pso(objective_function, search_space, num_particles_per_swarm, num_swarms, max_iter, inertia_weight, c1, c2):\n",
        "    \"\"\"\n",
        "    Dynamic Multi-swarm Particle Swarm Optimization (DMS-PSO) algorithm.\n",
        "\n",
        "    Args:\n",
        "    - objective_function (callable): The objective function to be minimized.\n",
        "    - search_space (tuple of numpy arrays): Defines the lower and upper bounds of the search space for each dimension.\n",
        "    - num_particles_per_swarm (int): Number of particles in each sub-swarm.\n",
        "    - num_swarms (int): Number of sub-swarms.\n",
        "    - max_iter (int): Maximum number of iterations.\n",
        "    - inertia_weight (float): Inertia weight parameter.\n",
        "    - c1 (float): Cognitive parameter.\n",
        "    - c2 (float): Social parameter.\n",
        "\n",
        "    Returns:\n",
        "    - tuple: Best solution found and its fitness value.\n",
        "    \"\"\"\n",
        "    position_dim = len(search_space[0])\n",
        "    global_best = None\n",
        "    global_best_fitness = float('inf')\n",
        "    swarms = [[Particle(position_dim, search_space) for _ in range(num_particles_per_swarm)] for _ in range(num_swarms)]\n",
        "\n",
        "    # Main optimization loop\n",
        "    for _ in range(max_iter):\n",
        "        # Update personal and global best positions in each sub-swarm\n",
        "        for swarm in swarms:\n",
        "            for particle in swarm:\n",
        "                fitness = objective_function(particle.position)\n",
        "                if fitness < global_best_fitness:\n",
        "                    global_best = np.copy(particle.position)\n",
        "                    global_best_fitness = fitness\n",
        "                if fitness < objective_function(particle.personal_best):\n",
        "                    particle.personal_best = np.copy(particle.position)\n",
        "\n",
        "            # Update particle velocities and positions in each sub-swarm\n",
        "            for particle in swarm:\n",
        "                rand1 = np.random.rand(position_dim)\n",
        "                rand2 = np.random.rand(position_dim)\n",
        "                particle.velocity = (inertia_weight * particle.velocity +\n",
        "                                     c1 * rand1 * (particle.personal_best - particle.position) +\n",
        "                                     c2 * rand2 * (global_best - particle.position))\n",
        "                particle.position += particle.velocity\n",
        "\n",
        "    return global_best, global_best_fitness\n",
        "\n",
        "# Example usage:\n",
        "def sphere_function(x):\n",
        "    return np.sum(x**2)\n",
        "\n",
        "search_space = [np.array([-5.12, -5.12]), np.array([5.12, 5.12])]\n",
        "num_particles_per_swarm = 30\n",
        "num_swarms = 5\n",
        "max_iter = 100\n",
        "inertia_weight = 0.7\n",
        "c1 = 1.5\n",
        "c2 = 1.5\n",
        "\n",
        "best_solution, best_fitness = dms_pso(sphere_function, search_space, num_particles_per_swarm, num_swarms, max_iter, inertia_weight, c1, c2)\n",
        "print(\"Best solution:\", best_solution)\n",
        "print(\"Best fitness:\", best_fitness)"
      ],
      "metadata": {
        "colab": {
          "base_uri": "https://localhost:8080/"
        },
        "id": "tCvmdQQ7X46x",
        "outputId": "5eb73480-1d90-4263-e3f8-1fa4e9863fc1"
      },
      "execution_count": null,
      "outputs": [
        {
          "output_type": "stream",
          "name": "stdout",
          "text": [
            "Best solution: [3.84743410e-08 4.41087517e-08]\n",
            "Best fitness: 3.4258568896328146e-15\n"
          ]
        }
      ]
    },
    {
      "cell_type": "markdown",
      "source": [
        "#Social Learning-based Particle Swarm Optimization:\n",
        "Incorporates social learning mechanisms inspired by animal behaviors (e.g., leadership, cooperation)."
      ],
      "metadata": {
        "id": "16USqW1tYiFA"
      }
    },
    {
      "cell_type": "code",
      "source": [
        "import numpy as np\n",
        "\n",
        "class Particle:\n",
        "    def __init__(self, position_dim, search_space):\n",
        "        self.position = np.random.uniform(search_space[0], search_space[1], position_dim)\n",
        "        self.velocity = np.zeros(position_dim)\n",
        "        self.personal_best = np.copy(self.position)\n",
        "\n",
        "def sl_pso(objective_function, search_space, num_particles, max_iter, inertia_weight, c1, c2, leader_selection_strategy):\n",
        "    position_dim = len(search_space[0])\n",
        "    global_best = None\n",
        "    global_best_fitness = float('inf')\n",
        "    swarm = [Particle(position_dim, search_space) for _ in range(num_particles)]\n",
        "\n",
        "    # Main optimization loop\n",
        "    for _ in range(max_iter):\n",
        "        # Update personal and global best positions\n",
        "        for particle in swarm:\n",
        "            fitness = objective_function(particle.position)\n",
        "            if fitness < global_best_fitness:\n",
        "                global_best = np.copy(particle.position)\n",
        "                global_best_fitness = fitness\n",
        "            if fitness < objective_function(particle.personal_best):\n",
        "                particle.personal_best = np.copy(particle.position)\n",
        "\n",
        "        # Select leaders based on the specified strategy\n",
        "        leaders = select_leaders(swarm, leader_selection_strategy)\n",
        "\n",
        "        # Update particle velocities and positions\n",
        "        for particle in swarm:\n",
        "            rand1 = np.random.rand(position_dim)\n",
        "            rand2 = np.random.rand(position_dim)\n",
        "            # Update velocity based on personal and global best, and leader influence\n",
        "            particle.velocity = (inertia_weight * particle.velocity +\n",
        "                                 c1 * rand1 * (particle.personal_best - particle.position) +\n",
        "                                 c2 * rand2 * (global_best - particle.position) +\n",
        "                                 leader_influence(particle, leaders))\n",
        "            particle.position += particle.velocity\n",
        "\n",
        "    return global_best, global_best_fitness\n",
        "\n",
        "def select_leaders(swarm, strategy):\n",
        "    \"\"\"\n",
        "    Select leaders from the swarm based on the specified strategy.\n",
        "\n",
        "    Args:\n",
        "    - swarm (list of Particle): The swarm of particles.\n",
        "    - strategy (str): Leader selection strategy.\n",
        "\n",
        "    Returns:\n",
        "    - list of Particle: Selected leaders.\n",
        "    \"\"\"\n",
        "    if strategy == 'best_fitness':\n",
        "        return [min(swarm, key=lambda x: np.sum(x.position**2))]\n",
        "    elif strategy == 'random':\n",
        "        return [np.random.choice(swarm)]\n",
        "    # Add more leader selection strategies as needed\n",
        "\n",
        "def leader_influence(particle, leaders):\n",
        "    \"\"\"\n",
        "    Compute the influence of leaders on a particle's velocity.\n",
        "\n",
        "    Args:\n",
        "    - particle (Particle): The particle whose velocity is being updated.\n",
        "    - leaders (list of Particle): List of leader particles.\n",
        "\n",
        "    Returns:\n",
        "    - numpy array: Influence of leaders on the particle's velocity.\n",
        "    \"\"\"\n",
        "    influence = np.zeros_like(particle.velocity)\n",
        "    for leader in leaders:\n",
        "        influence += leader.position - particle.position\n",
        "    return influence\n",
        "\n",
        "# Example usage:\n",
        "def sphere_function(x):\n",
        "    return np.sum(x**2)\n",
        "\n",
        "search_space = [np.array([-5.12, -5.12]), np.array([5.12, 5.12])]\n",
        "num_particles = 30\n",
        "max_iter = 100\n",
        "inertia_weight = 0.7\n",
        "c1 = 1.5\n",
        "c2 = 1.5\n",
        "leader_selection_strategy = 'best_fitness'\n",
        "\n",
        "best_solution, best_fitness = sl_pso(sphere_function, search_space, num_particles, max_iter, inertia_weight, c1, c2, leader_selection_strategy)\n",
        "print(\"Best solution:\", best_solution)\n",
        "print(\"Best fitness:\", best_fitness)"
      ],
      "metadata": {
        "colab": {
          "base_uri": "https://localhost:8080/"
        },
        "id": "1QZxuOpjYloQ",
        "outputId": "e0dda723-c6cc-4411-fec2-87f5aecff443"
      },
      "execution_count": null,
      "outputs": [
        {
          "output_type": "stream",
          "name": "stdout",
          "text": [
            "Best solution: [ 0.00269035 -0.00181073]\n",
            "Best fitness: 1.0516693677035066e-05\n"
          ]
        }
      ]
    }
  ]
}